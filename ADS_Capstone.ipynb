{
 "cells": [
  {
   "cell_type": "markdown",
   "metadata": {},
   "source": [
    "# Prediction of car accidents\n",
    "This notebook is created to be used in Coursera Applied Data Science Capstone Project."
   ]
  },
  {
   "cell_type": "markdown",
   "metadata": {},
   "source": [
    "## Introduction/Business Problem\n",
    "To solve this problem, I will use the data collected for Seattle city. The dataset is provided as example dataset for Applied Data Science Capstone Project. The dataset contains accident information and some related data such as location, road conditions etc. First the attributes that will be used in the modeling will be selected and data will be prepared for model building. \n",
    "\n",
    "## Data\n",
    "To solve this problem, I will use the data collected for Seattle city. The dataset is provided as example dataset for Applied Data Science Capstone Project. The dataset contains accident information and some related data such as location, road conditions etc. First the attributes that will be used in the modeling will be selected and data will be prepared for model building. "
   ]
  },
  {
   "cell_type": "code",
   "execution_count": 1,
   "metadata": {},
   "outputs": [],
   "source": [
    "import pandas as pd\n",
    "import numpy as np"
   ]
  },
  {
   "cell_type": "code",
   "execution_count": null,
   "metadata": {},
   "outputs": [],
   "source": []
  }
 ],
 "metadata": {
  "kernelspec": {
   "display_name": "Python 3",
   "language": "python",
   "name": "python3"
  },
  "language_info": {
   "codemirror_mode": {
    "name": "ipython",
    "version": 3
   },
   "file_extension": ".py",
   "mimetype": "text/x-python",
   "name": "python",
   "nbconvert_exporter": "python",
   "pygments_lexer": "ipython3",
   "version": "3.7.3"
  }
 },
 "nbformat": 4,
 "nbformat_minor": 4
}
